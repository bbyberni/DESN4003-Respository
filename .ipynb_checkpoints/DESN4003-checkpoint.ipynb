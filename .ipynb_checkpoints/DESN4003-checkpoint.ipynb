{
 "cells": [
  {
   "cell_type": "code",
   "execution_count": 3,
   "id": "146eab96-d9dd-4224-8c65-29ecf1c79b2e",
   "metadata": {},
   "outputs": [],
   "source": [
    "import torch\n",
    "import torch.nn as nn\n",
    "import torchvision.models as models"
   ]
  },
  {
   "cell_type": "code",
   "execution_count": 4,
   "id": "be4d6e96-2cfa-40dc-b0e6-c7695fd58e09",
   "metadata": {},
   "outputs": [],
   "source": [
    "# Define Resnet18-encoder model\n",
    "class Resnet18Encoder(nn.Module):\n",
    "    def __init__(self):\n",
    "        super(Resnet18Encoder, self).__init__()\n",
    "        resnet18 = models.resnet18(pretrained=True)\n",
    "        modules = list(resnet18.children())[:-1]  # Remove the last fully connected layer\n",
    "        self.resnet18 = nn.Sequential(*modules)\n",
    "\n",
    "    def forward(self, x):\n",
    "        return self.resnet18(x)"
   ]
  },
  {
   "cell_type": "code",
   "execution_count": 5,
   "id": "f2085364-71a4-4607-b0f2-8ac825d2dbea",
   "metadata": {},
   "outputs": [
    {
     "name": "stderr",
     "output_type": "stream",
     "text": [
      "C:\\Users\\berni\\anaconda3\\envs\\DESN4003-Repository\\lib\\site-packages\\torchvision\\models\\_utils.py:208: UserWarning: The parameter 'pretrained' is deprecated since 0.13 and may be removed in the future, please use 'weights' instead.\n",
      "  warnings.warn(\n",
      "C:\\Users\\berni\\anaconda3\\envs\\DESN4003-Repository\\lib\\site-packages\\torchvision\\models\\_utils.py:223: UserWarning: Arguments other than a weight enum or `None` for 'weights' are deprecated since 0.13 and may be removed in the future. The current behavior is equivalent to passing `weights=ResNet18_Weights.IMAGENET1K_V1`. You can also use `weights=ResNet18_Weights.DEFAULT` to get the most up-to-date weights.\n",
      "  warnings.warn(msg)\n",
      "Downloading: \"https://download.pytorch.org/models/resnet18-f37072fd.pth\" to C:\\Users\\berni/.cache\\torch\\hub\\checkpoints\\resnet18-f37072fd.pth\n",
      "100.0%\n"
     ]
    },
    {
     "name": "stdout",
     "output_type": "stream",
     "text": [
      "torch.Size([1, 512, 1, 1])\n"
     ]
    }
   ],
   "source": [
    "# Example usage\n",
    "encoder = Resnet18Encoder()\n",
    "input_image = torch.randn(1, 3, 224, 224)  # Example input image tensor\n",
    "output_features = encoder(input_image)\n",
    "print(output_features.shape)  # Check the output feature shape"
   ]
  },
  {
   "cell_type": "code",
   "execution_count": null,
   "id": "b4100743-8b7f-4cb2-8273-fa371f308896",
   "metadata": {},
   "outputs": [],
   "source": []
  }
 ],
 "metadata": {
  "kernelspec": {
   "display_name": "Python 3 (ipykernel)",
   "language": "python",
   "name": "python3"
  },
  "language_info": {
   "codemirror_mode": {
    "name": "ipython",
    "version": 3
   },
   "file_extension": ".py",
   "mimetype": "text/x-python",
   "name": "python",
   "nbconvert_exporter": "python",
   "pygments_lexer": "ipython3",
   "version": "3.8.20"
  }
 },
 "nbformat": 4,
 "nbformat_minor": 5
}
