{
 "cells": [
  {
   "cell_type": "code",
   "execution_count": 5,
   "id": "146eab96-d9dd-4224-8c65-29ecf1c79b2e",
   "metadata": {},
   "outputs": [],
   "source": [
    "import numpy as np\n",
    "import h5py"
   ]
  },
  {
   "cell_type": "code",
   "execution_count": 108,
   "id": "4ed27bab-66e6-43a0-b462-804607cff00d",
   "metadata": {},
   "outputs": [],
   "source": [
    "df = h5py.File(\"//Mac/Home/Downloads/wildfire_TUR_150arcsec_historical_2001_2020.hdf5\", \"r\")\n",
    "ls = list(df.keys())\n",
    "df.close()"
   ]
  },
  {
   "cell_type": "code",
   "execution_count": 101,
   "id": "386356be-180c-47f1-87c2-f2110ffa1f4e",
   "metadata": {},
   "outputs": [
    {
     "data": {
      "text/plain": [
       "['centroids',\n",
       " 'date',\n",
       " 'description',\n",
       " 'event_id',\n",
       " 'event_name',\n",
       " 'file_name',\n",
       " 'fraction',\n",
       " 'frequency',\n",
       " 'haz_type',\n",
       " 'intensity',\n",
       " 'orig',\n",
       " 'units']"
      ]
     },
     "execution_count": 101,
     "metadata": {},
     "output_type": "execute_result"
    }
   ],
   "source": [
    "ls"
   ]
  },
  {
   "cell_type": "code",
   "execution_count": 109,
   "id": "7be84aa1-a1c9-480f-935f-4db76437acd4",
   "metadata": {},
   "outputs": [],
   "source": [
    "data = f.get('description')\n",
    "description = np.array(data)"
   ]
  },
  {
   "cell_type": "code",
   "execution_count": 110,
   "id": "7fc4c71d-584d-4e67-8d5a-09599c58e04c",
   "metadata": {},
   "outputs": [
    {
     "data": {
      "text/plain": [
       "array(None, dtype=object)"
      ]
     },
     "execution_count": 110,
     "metadata": {},
     "output_type": "execute_result"
    }
   ],
   "source": [
    "description"
   ]
  },
  {
   "cell_type": "code",
   "execution_count": null,
   "id": "4d7a87ea-5cd9-4c87-a851-0a69c9b77b0a",
   "metadata": {},
   "outputs": [],
   "source": []
  }
 ],
 "metadata": {
  "kernelspec": {
   "display_name": "Python 3 (ipykernel)",
   "language": "python",
   "name": "python3"
  },
  "language_info": {
   "codemirror_mode": {
    "name": "ipython",
    "version": 3
   },
   "file_extension": ".py",
   "mimetype": "text/x-python",
   "name": "python",
   "nbconvert_exporter": "python",
   "pygments_lexer": "ipython3",
   "version": "3.12.3"
  }
 },
 "nbformat": 4,
 "nbformat_minor": 5
}
